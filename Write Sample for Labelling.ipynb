{
 "cells": [
  {
   "cell_type": "code",
   "execution_count": 3,
   "id": "9a088a4e",
   "metadata": {},
   "outputs": [],
   "source": [
    "import pandas as pd\n",
    "from datetime import date\n",
    "import nltk\n",
    "from nltk.tokenize import word_tokenize\n",
    "#from pytwitter import Api\n",
    "import json\n",
    "import csv\n",
    "\n",
    "#!pip install emoji\n",
    "from emoji import UNICODE_EMOJI\n",
    "\n",
    "#API key \n",
    "#API key secret \n",
    "#bearer token \n",
    "#Access token\n",
    "#Acces token secret"
   ]
  },
  {
   "cell_type": "code",
   "execution_count": 4,
   "id": "73914661",
   "metadata": {},
   "outputs": [
    {
     "name": "stderr",
     "output_type": "stream",
     "text": [
      "/tmp/ipykernel_26049/613116759.py:1: DtypeWarning: Columns (0,1,2,19,20) have mixed types. Specify dtype option on import or set low_memory=False.\n",
      "  df = pd.read_csv(\"DutchTwitterData.csv\", sep=\"\\t\").drop('Unnamed: 0',axis=1)\n"
     ]
    }
   ],
   "source": [
    "df = pd.read_csv(\"DutchTwitterData.csv\", sep=\"\\t\").drop('Unnamed: 0',axis=1)"
   ]
  },
  {
   "cell_type": "code",
   "execution_count": 13,
   "id": "7573feb0",
   "metadata": {},
   "outputs": [],
   "source": [
    "texts = list(df[df[\"hashtag\"]==\"#jinek\"][\"text\"])\n",
    "texts2 = list(df[df[\"hashtag\"]==\"#vleestaks\"][\"text\"])\n",
    "texts3 = list(df[df[\"hashtag\"]==\"#inflatie\"][\"text\"])"
   ]
  },
  {
   "cell_type": "code",
   "execution_count": 14,
   "id": "ef965a31",
   "metadata": {},
   "outputs": [],
   "source": [
    "import random\n",
    "\n",
    "jinek_sample = random.sample(texts,750)\n",
    "vleestaks_sample = random.sample(texts2,50)\n",
    "inflatie_sample = random.sample(texts3, 200)"
   ]
  },
  {
   "cell_type": "code",
   "execution_count": 15,
   "id": "1cd6d7cc",
   "metadata": {},
   "outputs": [],
   "source": [
    "sample = []\n",
    "\n",
    "sample.append(jinek_sample)\n",
    "sample.append(vleestaks_sample)\n",
    "sample.append(inflatie_sample)\n",
    "\n",
    "flat_list = [item for sublist in sample for item in sublist]\n",
    "flat_list = [x.replace(\"\\n\", \" \") for x in flat_list]\n",
    "random.shuffle(flat_list)"
   ]
  },
  {
   "cell_type": "code",
   "execution_count": 20,
   "id": "159f7939",
   "metadata": {},
   "outputs": [],
   "source": [
    "# open the file in the write mode\n",
    "f = open('data2.csv', 'w', encoding=\"utf-8\")\n",
    "\n",
    "for i in flat_list[0:250]:\n",
    "    f.write(str(i+\"\\n\"))\n",
    "f.close()"
   ]
  },
  {
   "cell_type": "code",
   "execution_count": 24,
   "id": "5c52e908",
   "metadata": {},
   "outputs": [],
   "source": [
    "# open the file in the write mode\n",
    "f = open('data3.csv', 'w', encoding=\"utf-8\")\n",
    "\n",
    "for i in flat_list[250:500]:\n",
    "    f.write(i+\"\\n\")\n",
    "f.close()"
   ]
  },
  {
   "cell_type": "code",
   "execution_count": 25,
   "id": "6a9cb977",
   "metadata": {},
   "outputs": [],
   "source": [
    "# open the file in the write mode\n",
    "f = open('data4.csv', 'w', encoding=\"utf-8\")\n",
    "\n",
    "for i in flat_list[500:750]:\n",
    "    f.write(i+\"\\n\")\n",
    "f.close()"
   ]
  },
  {
   "cell_type": "code",
   "execution_count": 26,
   "id": "def6d696",
   "metadata": {},
   "outputs": [],
   "source": [
    "# open the file in the write mode\n",
    "f = open('data5.csv', 'w', encoding=\"utf-8\")\n",
    "\n",
    "for i in flat_list[750:1000]:\n",
    "    f.write(i+\"\\n\")\n",
    "f.close()"
   ]
  }
 ],
 "metadata": {
  "kernelspec": {
   "display_name": "Python 3 (ipykernel)",
   "language": "python",
   "name": "python3"
  },
  "language_info": {
   "codemirror_mode": {
    "name": "ipython",
    "version": 3
   },
   "file_extension": ".py",
   "mimetype": "text/x-python",
   "name": "python",
   "nbconvert_exporter": "python",
   "pygments_lexer": "ipython3",
   "version": "3.9.12"
  }
 },
 "nbformat": 4,
 "nbformat_minor": 5
}
